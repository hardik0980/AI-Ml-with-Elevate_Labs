{
 "cells": [
  {
   "cell_type": "markdown",
   "id": "93851292-5e88-44de-a893-2de93f238590",
   "metadata": {},
   "source": [
    "# Importing Importants Libraries "
   ]
  },
  {
   "cell_type": "code",
   "execution_count": 1,
   "id": "8d30f129-5fec-4138-8672-8b118d5d8040",
   "metadata": {},
   "outputs": [],
   "source": [
    "import pandas as pd\n",
    "import numpy as np\n",
    "import matplotlib.pyplot as plt \n",
    "import seaborn as sns\n"
   ]
  },
  {
   "cell_type": "markdown",
   "id": "c5b49d4d-b0fc-43b3-8cc2-68af9e8b233b",
   "metadata": {},
   "source": [
    "# Import Titanic dataset"
   ]
  },
  {
   "cell_type": "code",
   "execution_count": 2,
   "id": "0c4faba0-3d59-428d-89eb-6809a3f20e16",
   "metadata": {},
   "outputs": [
    {
     "data": {
      "text/html": [
       "<div>\n",
       "<style scoped>\n",
       "    .dataframe tbody tr th:only-of-type {\n",
       "        vertical-align: middle;\n",
       "    }\n",
       "\n",
       "    .dataframe tbody tr th {\n",
       "        vertical-align: top;\n",
       "    }\n",
       "\n",
       "    .dataframe thead th {\n",
       "        text-align: right;\n",
       "    }\n",
       "</style>\n",
       "<table border=\"1\" class=\"dataframe\">\n",
       "  <thead>\n",
       "    <tr style=\"text-align: right;\">\n",
       "      <th></th>\n",
       "      <th>PassengerId</th>\n",
       "      <th>Survived</th>\n",
       "      <th>Pclass</th>\n",
       "      <th>Name</th>\n",
       "      <th>Sex</th>\n",
       "      <th>Age</th>\n",
       "      <th>SibSp</th>\n",
       "      <th>Parch</th>\n",
       "      <th>Ticket</th>\n",
       "      <th>Fare</th>\n",
       "      <th>Cabin</th>\n",
       "      <th>Embarked</th>\n",
       "    </tr>\n",
       "  </thead>\n",
       "  <tbody>\n",
       "    <tr>\n",
       "      <th>0</th>\n",
       "      <td>1</td>\n",
       "      <td>0</td>\n",
       "      <td>3</td>\n",
       "      <td>Braund, Mr. Owen Harris</td>\n",
       "      <td>male</td>\n",
       "      <td>22.0</td>\n",
       "      <td>1</td>\n",
       "      <td>0</td>\n",
       "      <td>A/5 21171</td>\n",
       "      <td>7.2500</td>\n",
       "      <td>NaN</td>\n",
       "      <td>S</td>\n",
       "    </tr>\n",
       "    <tr>\n",
       "      <th>1</th>\n",
       "      <td>2</td>\n",
       "      <td>1</td>\n",
       "      <td>1</td>\n",
       "      <td>Cumings, Mrs. John Bradley (Florence Briggs Th...</td>\n",
       "      <td>female</td>\n",
       "      <td>38.0</td>\n",
       "      <td>1</td>\n",
       "      <td>0</td>\n",
       "      <td>PC 17599</td>\n",
       "      <td>71.2833</td>\n",
       "      <td>C85</td>\n",
       "      <td>C</td>\n",
       "    </tr>\n",
       "    <tr>\n",
       "      <th>2</th>\n",
       "      <td>3</td>\n",
       "      <td>1</td>\n",
       "      <td>3</td>\n",
       "      <td>Heikkinen, Miss. Laina</td>\n",
       "      <td>female</td>\n",
       "      <td>26.0</td>\n",
       "      <td>0</td>\n",
       "      <td>0</td>\n",
       "      <td>STON/O2. 3101282</td>\n",
       "      <td>7.9250</td>\n",
       "      <td>NaN</td>\n",
       "      <td>S</td>\n",
       "    </tr>\n",
       "    <tr>\n",
       "      <th>3</th>\n",
       "      <td>4</td>\n",
       "      <td>1</td>\n",
       "      <td>1</td>\n",
       "      <td>Futrelle, Mrs. Jacques Heath (Lily May Peel)</td>\n",
       "      <td>female</td>\n",
       "      <td>35.0</td>\n",
       "      <td>1</td>\n",
       "      <td>0</td>\n",
       "      <td>113803</td>\n",
       "      <td>53.1000</td>\n",
       "      <td>C123</td>\n",
       "      <td>S</td>\n",
       "    </tr>\n",
       "    <tr>\n",
       "      <th>4</th>\n",
       "      <td>5</td>\n",
       "      <td>0</td>\n",
       "      <td>3</td>\n",
       "      <td>Allen, Mr. William Henry</td>\n",
       "      <td>male</td>\n",
       "      <td>35.0</td>\n",
       "      <td>0</td>\n",
       "      <td>0</td>\n",
       "      <td>373450</td>\n",
       "      <td>8.0500</td>\n",
       "      <td>NaN</td>\n",
       "      <td>S</td>\n",
       "    </tr>\n",
       "    <tr>\n",
       "      <th>...</th>\n",
       "      <td>...</td>\n",
       "      <td>...</td>\n",
       "      <td>...</td>\n",
       "      <td>...</td>\n",
       "      <td>...</td>\n",
       "      <td>...</td>\n",
       "      <td>...</td>\n",
       "      <td>...</td>\n",
       "      <td>...</td>\n",
       "      <td>...</td>\n",
       "      <td>...</td>\n",
       "      <td>...</td>\n",
       "    </tr>\n",
       "    <tr>\n",
       "      <th>886</th>\n",
       "      <td>887</td>\n",
       "      <td>0</td>\n",
       "      <td>2</td>\n",
       "      <td>Montvila, Rev. Juozas</td>\n",
       "      <td>male</td>\n",
       "      <td>27.0</td>\n",
       "      <td>0</td>\n",
       "      <td>0</td>\n",
       "      <td>211536</td>\n",
       "      <td>13.0000</td>\n",
       "      <td>NaN</td>\n",
       "      <td>S</td>\n",
       "    </tr>\n",
       "    <tr>\n",
       "      <th>887</th>\n",
       "      <td>888</td>\n",
       "      <td>1</td>\n",
       "      <td>1</td>\n",
       "      <td>Graham, Miss. Margaret Edith</td>\n",
       "      <td>female</td>\n",
       "      <td>19.0</td>\n",
       "      <td>0</td>\n",
       "      <td>0</td>\n",
       "      <td>112053</td>\n",
       "      <td>30.0000</td>\n",
       "      <td>B42</td>\n",
       "      <td>S</td>\n",
       "    </tr>\n",
       "    <tr>\n",
       "      <th>888</th>\n",
       "      <td>889</td>\n",
       "      <td>0</td>\n",
       "      <td>3</td>\n",
       "      <td>Johnston, Miss. Catherine Helen \"Carrie\"</td>\n",
       "      <td>female</td>\n",
       "      <td>NaN</td>\n",
       "      <td>1</td>\n",
       "      <td>2</td>\n",
       "      <td>W./C. 6607</td>\n",
       "      <td>23.4500</td>\n",
       "      <td>NaN</td>\n",
       "      <td>S</td>\n",
       "    </tr>\n",
       "    <tr>\n",
       "      <th>889</th>\n",
       "      <td>890</td>\n",
       "      <td>1</td>\n",
       "      <td>1</td>\n",
       "      <td>Behr, Mr. Karl Howell</td>\n",
       "      <td>male</td>\n",
       "      <td>26.0</td>\n",
       "      <td>0</td>\n",
       "      <td>0</td>\n",
       "      <td>111369</td>\n",
       "      <td>30.0000</td>\n",
       "      <td>C148</td>\n",
       "      <td>C</td>\n",
       "    </tr>\n",
       "    <tr>\n",
       "      <th>890</th>\n",
       "      <td>891</td>\n",
       "      <td>0</td>\n",
       "      <td>3</td>\n",
       "      <td>Dooley, Mr. Patrick</td>\n",
       "      <td>male</td>\n",
       "      <td>32.0</td>\n",
       "      <td>0</td>\n",
       "      <td>0</td>\n",
       "      <td>370376</td>\n",
       "      <td>7.7500</td>\n",
       "      <td>NaN</td>\n",
       "      <td>Q</td>\n",
       "    </tr>\n",
       "  </tbody>\n",
       "</table>\n",
       "<p>891 rows × 12 columns</p>\n",
       "</div>"
      ],
      "text/plain": [
       "     PassengerId  Survived  Pclass  \\\n",
       "0              1         0       3   \n",
       "1              2         1       1   \n",
       "2              3         1       3   \n",
       "3              4         1       1   \n",
       "4              5         0       3   \n",
       "..           ...       ...     ...   \n",
       "886          887         0       2   \n",
       "887          888         1       1   \n",
       "888          889         0       3   \n",
       "889          890         1       1   \n",
       "890          891         0       3   \n",
       "\n",
       "                                                  Name     Sex   Age  SibSp  \\\n",
       "0                              Braund, Mr. Owen Harris    male  22.0      1   \n",
       "1    Cumings, Mrs. John Bradley (Florence Briggs Th...  female  38.0      1   \n",
       "2                               Heikkinen, Miss. Laina  female  26.0      0   \n",
       "3         Futrelle, Mrs. Jacques Heath (Lily May Peel)  female  35.0      1   \n",
       "4                             Allen, Mr. William Henry    male  35.0      0   \n",
       "..                                                 ...     ...   ...    ...   \n",
       "886                              Montvila, Rev. Juozas    male  27.0      0   \n",
       "887                       Graham, Miss. Margaret Edith  female  19.0      0   \n",
       "888           Johnston, Miss. Catherine Helen \"Carrie\"  female   NaN      1   \n",
       "889                              Behr, Mr. Karl Howell    male  26.0      0   \n",
       "890                                Dooley, Mr. Patrick    male  32.0      0   \n",
       "\n",
       "     Parch            Ticket     Fare Cabin Embarked  \n",
       "0        0         A/5 21171   7.2500   NaN        S  \n",
       "1        0          PC 17599  71.2833   C85        C  \n",
       "2        0  STON/O2. 3101282   7.9250   NaN        S  \n",
       "3        0            113803  53.1000  C123        S  \n",
       "4        0            373450   8.0500   NaN        S  \n",
       "..     ...               ...      ...   ...      ...  \n",
       "886      0            211536  13.0000   NaN        S  \n",
       "887      0            112053  30.0000   B42        S  \n",
       "888      2        W./C. 6607  23.4500   NaN        S  \n",
       "889      0            111369  30.0000  C148        C  \n",
       "890      0            370376   7.7500   NaN        Q  \n",
       "\n",
       "[891 rows x 12 columns]"
      ]
     },
     "execution_count": 2,
     "metadata": {},
     "output_type": "execute_result"
    }
   ],
   "source": [
    "Titanic_dataset = pd.read_csv(\"Titanic-Dataset.csv\")\n",
    "Titanic_dataset"
   ]
  },
  {
   "cell_type": "code",
   "execution_count": 3,
   "id": "8b1c6f23-6d21-48b6-b92d-7856f4da3c5c",
   "metadata": {},
   "outputs": [
    {
     "name": "stdout",
     "output_type": "stream",
     "text": [
      "\n",
      "Top 10 rows : \n",
      "     PassengerId  Survived  Pclass  \\\n",
      "0            1         0       3   \n",
      "1            2         1       1   \n",
      "2            3         1       3   \n",
      "3            4         1       1   \n",
      "4            5         0       3   \n",
      "5            6         0       3   \n",
      "6            7         0       1   \n",
      "7            8         0       3   \n",
      "8            9         1       3   \n",
      "9           10         1       2   \n",
      "\n",
      "                                                Name     Sex   Age  SibSp  \\\n",
      "0                            Braund, Mr. Owen Harris    male  22.0      1   \n",
      "1  Cumings, Mrs. John Bradley (Florence Briggs Th...  female  38.0      1   \n",
      "2                             Heikkinen, Miss. Laina  female  26.0      0   \n",
      "3       Futrelle, Mrs. Jacques Heath (Lily May Peel)  female  35.0      1   \n",
      "4                           Allen, Mr. William Henry    male  35.0      0   \n",
      "5                                   Moran, Mr. James    male   NaN      0   \n",
      "6                            McCarthy, Mr. Timothy J    male  54.0      0   \n",
      "7                     Palsson, Master. Gosta Leonard    male   2.0      3   \n",
      "8  Johnson, Mrs. Oscar W (Elisabeth Vilhelmina Berg)  female  27.0      0   \n",
      "9                Nasser, Mrs. Nicholas (Adele Achem)  female  14.0      1   \n",
      "\n",
      "   Parch            Ticket     Fare Cabin Embarked  \n",
      "0      0         A/5 21171   7.2500   NaN        S  \n",
      "1      0          PC 17599  71.2833   C85        C  \n",
      "2      0  STON/O2. 3101282   7.9250   NaN        S  \n",
      "3      0            113803  53.1000  C123        S  \n",
      "4      0            373450   8.0500   NaN        S  \n",
      "5      0            330877   8.4583   NaN        Q  \n",
      "6      0             17463  51.8625   E46        S  \n",
      "7      1            349909  21.0750   NaN        S  \n",
      "8      2            347742  11.1333   NaN        S  \n",
      "9      0            237736  30.0708   NaN        C  \n"
     ]
    }
   ],
   "source": [
    "print( \"\\nTop 10 rows : \\n \" ,Titanic_dataset.head(10))"
   ]
  },
  {
   "cell_type": "code",
   "execution_count": 4,
   "id": "9b7fa7c4-6bcf-450f-afd9-c9a6050af054",
   "metadata": {},
   "outputs": [
    {
     "name": "stdout",
     "output_type": "stream",
     "text": [
      "\n",
      " Last 10 rows : \n",
      "       PassengerId  Survived  Pclass                                      Name  \\\n",
      "881          882         0       3                        Markun, Mr. Johann   \n",
      "882          883         0       3              Dahlberg, Miss. Gerda Ulrika   \n",
      "883          884         0       2             Banfield, Mr. Frederick James   \n",
      "884          885         0       3                    Sutehall, Mr. Henry Jr   \n",
      "885          886         0       3      Rice, Mrs. William (Margaret Norton)   \n",
      "886          887         0       2                     Montvila, Rev. Juozas   \n",
      "887          888         1       1              Graham, Miss. Margaret Edith   \n",
      "888          889         0       3  Johnston, Miss. Catherine Helen \"Carrie\"   \n",
      "889          890         1       1                     Behr, Mr. Karl Howell   \n",
      "890          891         0       3                       Dooley, Mr. Patrick   \n",
      "\n",
      "        Sex   Age  SibSp  Parch            Ticket     Fare Cabin Embarked  \n",
      "881    male  33.0      0      0            349257   7.8958   NaN        S  \n",
      "882  female  22.0      0      0              7552  10.5167   NaN        S  \n",
      "883    male  28.0      0      0  C.A./SOTON 34068  10.5000   NaN        S  \n",
      "884    male  25.0      0      0   SOTON/OQ 392076   7.0500   NaN        S  \n",
      "885  female  39.0      0      5            382652  29.1250   NaN        Q  \n",
      "886    male  27.0      0      0            211536  13.0000   NaN        S  \n",
      "887  female  19.0      0      0            112053  30.0000   B42        S  \n",
      "888  female   NaN      1      2        W./C. 6607  23.4500   NaN        S  \n",
      "889    male  26.0      0      0            111369  30.0000  C148        C  \n",
      "890    male  32.0      0      0            370376   7.7500   NaN        Q  \n"
     ]
    }
   ],
   "source": [
    "print( \"\\n Last 10 rows : \\n \" ,Titanic_dataset.tail(10))"
   ]
  },
  {
   "cell_type": "code",
   "execution_count": 5,
   "id": "492c3bea-bd1e-4df0-a952-2370db9d4356",
   "metadata": {},
   "outputs": [
    {
     "name": "stdout",
     "output_type": "stream",
     "text": [
      "\n",
      " Information about the Titanic dataset : \n",
      " \n",
      "<class 'pandas.core.frame.DataFrame'>\n",
      "RangeIndex: 891 entries, 0 to 890\n",
      "Data columns (total 12 columns):\n",
      " #   Column       Non-Null Count  Dtype  \n",
      "---  ------       --------------  -----  \n",
      " 0   PassengerId  891 non-null    int64  \n",
      " 1   Survived     891 non-null    int64  \n",
      " 2   Pclass       891 non-null    int64  \n",
      " 3   Name         891 non-null    object \n",
      " 4   Sex          891 non-null    object \n",
      " 5   Age          714 non-null    float64\n",
      " 6   SibSp        891 non-null    int64  \n",
      " 7   Parch        891 non-null    int64  \n",
      " 8   Ticket       891 non-null    object \n",
      " 9   Fare         891 non-null    float64\n",
      " 10  Cabin        204 non-null    object \n",
      " 11  Embarked     889 non-null    object \n",
      "dtypes: float64(2), int64(5), object(5)\n",
      "memory usage: 83.7+ KB\n"
     ]
    }
   ],
   "source": [
    "print( \"\\n Information about the Titanic dataset : \\n \" )\n",
    "Titanic_dataset.info()"
   ]
  },
  {
   "cell_type": "markdown",
   "id": "fd5832d1-9139-4da8-8009-5947ec81ceeb",
   "metadata": {},
   "source": [
    "# Numerical Columns"
   ]
  },
  {
   "cell_type": "code",
   "execution_count": 6,
   "id": "729660b4-e7c4-4d7a-a604-2cbb24c8278f",
   "metadata": {},
   "outputs": [
    {
     "name": "stdout",
     "output_type": "stream",
     "text": [
      "Numerical columns is here : \n",
      "       PassengerId  Survived  Pclass   Age  SibSp  Parch     Fare\n",
      "0              1         0       3  22.0      1      0   7.2500\n",
      "1              2         1       1  38.0      1      0  71.2833\n",
      "2              3         1       3  26.0      0      0   7.9250\n",
      "3              4         1       1  35.0      1      0  53.1000\n",
      "4              5         0       3  35.0      0      0   8.0500\n",
      "..           ...       ...     ...   ...    ...    ...      ...\n",
      "886          887         0       2  27.0      0      0  13.0000\n",
      "887          888         1       1  19.0      0      0  30.0000\n",
      "888          889         0       3   NaN      1      2  23.4500\n",
      "889          890         1       1  26.0      0      0  30.0000\n",
      "890          891         0       3  32.0      0      0   7.7500\n",
      "\n",
      "[891 rows x 7 columns]\n"
     ]
    }
   ],
   "source": [
    "numerical_col = Titanic_dataset.select_dtypes(include=[\"int64\", \"float64\"])\n",
    "print(\"Numerical columns is here : \\n \",numerical_col)"
   ]
  },
  {
   "cell_type": "markdown",
   "id": "2c02d797-aecf-48ca-ac29-df0c80597329",
   "metadata": {},
   "source": [
    "# Categorical columns "
   ]
  },
  {
   "cell_type": "code",
   "execution_count": 7,
   "id": "69861c74-d32e-4e79-8164-7c16eeec571f",
   "metadata": {},
   "outputs": [
    {
     "name": "stdout",
     "output_type": "stream",
     "text": [
      "Categical columns is here : \n",
      "                                                   Name     Sex  \\\n",
      "0                              Braund, Mr. Owen Harris    male   \n",
      "1    Cumings, Mrs. John Bradley (Florence Briggs Th...  female   \n",
      "2                               Heikkinen, Miss. Laina  female   \n",
      "3         Futrelle, Mrs. Jacques Heath (Lily May Peel)  female   \n",
      "4                             Allen, Mr. William Henry    male   \n",
      "..                                                 ...     ...   \n",
      "886                              Montvila, Rev. Juozas    male   \n",
      "887                       Graham, Miss. Margaret Edith  female   \n",
      "888           Johnston, Miss. Catherine Helen \"Carrie\"  female   \n",
      "889                              Behr, Mr. Karl Howell    male   \n",
      "890                                Dooley, Mr. Patrick    male   \n",
      "\n",
      "               Ticket Cabin Embarked  \n",
      "0           A/5 21171   NaN        S  \n",
      "1            PC 17599   C85        C  \n",
      "2    STON/O2. 3101282   NaN        S  \n",
      "3              113803  C123        S  \n",
      "4              373450   NaN        S  \n",
      "..                ...   ...      ...  \n",
      "886            211536   NaN        S  \n",
      "887            112053   B42        S  \n",
      "888        W./C. 6607   NaN        S  \n",
      "889            111369  C148        C  \n",
      "890            370376   NaN        Q  \n",
      "\n",
      "[891 rows x 5 columns]\n"
     ]
    }
   ],
   "source": [
    "Categorical_col = Titanic_dataset.select_dtypes(include=[\"object\"])\n",
    "print(\"Categical columns is here : \\n\",Categorical_col)"
   ]
  },
  {
   "cell_type": "code",
   "execution_count": 8,
   "id": "9d3cd22d-fec0-4024-84a6-71040cc51e7b",
   "metadata": {},
   "outputs": [],
   "source": [
    "# statistic about data"
   ]
  },
  {
   "cell_type": "code",
   "execution_count": 9,
   "id": "95fe855f-81d2-4ac4-899c-dd7a58ca6238",
   "metadata": {},
   "outputs": [
    {
     "data": {
      "text/html": [
       "<div>\n",
       "<style scoped>\n",
       "    .dataframe tbody tr th:only-of-type {\n",
       "        vertical-align: middle;\n",
       "    }\n",
       "\n",
       "    .dataframe tbody tr th {\n",
       "        vertical-align: top;\n",
       "    }\n",
       "\n",
       "    .dataframe thead th {\n",
       "        text-align: right;\n",
       "    }\n",
       "</style>\n",
       "<table border=\"1\" class=\"dataframe\">\n",
       "  <thead>\n",
       "    <tr style=\"text-align: right;\">\n",
       "      <th></th>\n",
       "      <th>count</th>\n",
       "      <th>mean</th>\n",
       "      <th>std</th>\n",
       "      <th>min</th>\n",
       "      <th>25%</th>\n",
       "      <th>50%</th>\n",
       "      <th>75%</th>\n",
       "      <th>max</th>\n",
       "    </tr>\n",
       "  </thead>\n",
       "  <tbody>\n",
       "    <tr>\n",
       "      <th>PassengerId</th>\n",
       "      <td>891.0</td>\n",
       "      <td>446.000000</td>\n",
       "      <td>257.353842</td>\n",
       "      <td>1.00</td>\n",
       "      <td>223.5000</td>\n",
       "      <td>446.0000</td>\n",
       "      <td>668.5</td>\n",
       "      <td>891.0000</td>\n",
       "    </tr>\n",
       "    <tr>\n",
       "      <th>Survived</th>\n",
       "      <td>891.0</td>\n",
       "      <td>0.383838</td>\n",
       "      <td>0.486592</td>\n",
       "      <td>0.00</td>\n",
       "      <td>0.0000</td>\n",
       "      <td>0.0000</td>\n",
       "      <td>1.0</td>\n",
       "      <td>1.0000</td>\n",
       "    </tr>\n",
       "    <tr>\n",
       "      <th>Pclass</th>\n",
       "      <td>891.0</td>\n",
       "      <td>2.308642</td>\n",
       "      <td>0.836071</td>\n",
       "      <td>1.00</td>\n",
       "      <td>2.0000</td>\n",
       "      <td>3.0000</td>\n",
       "      <td>3.0</td>\n",
       "      <td>3.0000</td>\n",
       "    </tr>\n",
       "    <tr>\n",
       "      <th>Age</th>\n",
       "      <td>714.0</td>\n",
       "      <td>29.699118</td>\n",
       "      <td>14.526497</td>\n",
       "      <td>0.42</td>\n",
       "      <td>20.1250</td>\n",
       "      <td>28.0000</td>\n",
       "      <td>38.0</td>\n",
       "      <td>80.0000</td>\n",
       "    </tr>\n",
       "    <tr>\n",
       "      <th>SibSp</th>\n",
       "      <td>891.0</td>\n",
       "      <td>0.523008</td>\n",
       "      <td>1.102743</td>\n",
       "      <td>0.00</td>\n",
       "      <td>0.0000</td>\n",
       "      <td>0.0000</td>\n",
       "      <td>1.0</td>\n",
       "      <td>8.0000</td>\n",
       "    </tr>\n",
       "    <tr>\n",
       "      <th>Parch</th>\n",
       "      <td>891.0</td>\n",
       "      <td>0.381594</td>\n",
       "      <td>0.806057</td>\n",
       "      <td>0.00</td>\n",
       "      <td>0.0000</td>\n",
       "      <td>0.0000</td>\n",
       "      <td>0.0</td>\n",
       "      <td>6.0000</td>\n",
       "    </tr>\n",
       "    <tr>\n",
       "      <th>Fare</th>\n",
       "      <td>891.0</td>\n",
       "      <td>32.204208</td>\n",
       "      <td>49.693429</td>\n",
       "      <td>0.00</td>\n",
       "      <td>7.9104</td>\n",
       "      <td>14.4542</td>\n",
       "      <td>31.0</td>\n",
       "      <td>512.3292</td>\n",
       "    </tr>\n",
       "  </tbody>\n",
       "</table>\n",
       "</div>"
      ],
      "text/plain": [
       "             count        mean         std   min       25%       50%    75%  \\\n",
       "PassengerId  891.0  446.000000  257.353842  1.00  223.5000  446.0000  668.5   \n",
       "Survived     891.0    0.383838    0.486592  0.00    0.0000    0.0000    1.0   \n",
       "Pclass       891.0    2.308642    0.836071  1.00    2.0000    3.0000    3.0   \n",
       "Age          714.0   29.699118   14.526497  0.42   20.1250   28.0000   38.0   \n",
       "SibSp        891.0    0.523008    1.102743  0.00    0.0000    0.0000    1.0   \n",
       "Parch        891.0    0.381594    0.806057  0.00    0.0000    0.0000    0.0   \n",
       "Fare         891.0   32.204208   49.693429  0.00    7.9104   14.4542   31.0   \n",
       "\n",
       "                  max  \n",
       "PassengerId  891.0000  \n",
       "Survived       1.0000  \n",
       "Pclass         3.0000  \n",
       "Age           80.0000  \n",
       "SibSp          8.0000  \n",
       "Parch          6.0000  \n",
       "Fare         512.3292  "
      ]
     },
     "execution_count": 9,
     "metadata": {},
     "output_type": "execute_result"
    }
   ],
   "source": [
    "Titanic_dataset.describe().T\n"
   ]
  },
  {
   "cell_type": "code",
   "execution_count": 10,
   "id": "26d6b69d-95dd-491e-a3b2-23214f7b5192",
   "metadata": {},
   "outputs": [
    {
     "data": {
      "text/html": [
       "<div>\n",
       "<style scoped>\n",
       "    .dataframe tbody tr th:only-of-type {\n",
       "        vertical-align: middle;\n",
       "    }\n",
       "\n",
       "    .dataframe tbody tr th {\n",
       "        vertical-align: top;\n",
       "    }\n",
       "\n",
       "    .dataframe thead th {\n",
       "        text-align: right;\n",
       "    }\n",
       "</style>\n",
       "<table border=\"1\" class=\"dataframe\">\n",
       "  <thead>\n",
       "    <tr style=\"text-align: right;\">\n",
       "      <th></th>\n",
       "      <th>Name</th>\n",
       "      <th>Sex</th>\n",
       "      <th>Ticket</th>\n",
       "      <th>Cabin</th>\n",
       "      <th>Embarked</th>\n",
       "    </tr>\n",
       "  </thead>\n",
       "  <tbody>\n",
       "    <tr>\n",
       "      <th>count</th>\n",
       "      <td>891</td>\n",
       "      <td>891</td>\n",
       "      <td>891</td>\n",
       "      <td>204</td>\n",
       "      <td>889</td>\n",
       "    </tr>\n",
       "    <tr>\n",
       "      <th>unique</th>\n",
       "      <td>891</td>\n",
       "      <td>2</td>\n",
       "      <td>681</td>\n",
       "      <td>147</td>\n",
       "      <td>3</td>\n",
       "    </tr>\n",
       "    <tr>\n",
       "      <th>top</th>\n",
       "      <td>Braund, Mr. Owen Harris</td>\n",
       "      <td>male</td>\n",
       "      <td>347082</td>\n",
       "      <td>B96 B98</td>\n",
       "      <td>S</td>\n",
       "    </tr>\n",
       "    <tr>\n",
       "      <th>freq</th>\n",
       "      <td>1</td>\n",
       "      <td>577</td>\n",
       "      <td>7</td>\n",
       "      <td>4</td>\n",
       "      <td>644</td>\n",
       "    </tr>\n",
       "  </tbody>\n",
       "</table>\n",
       "</div>"
      ],
      "text/plain": [
       "                           Name   Sex  Ticket    Cabin Embarked\n",
       "count                       891   891     891      204      889\n",
       "unique                      891     2     681      147        3\n",
       "top     Braund, Mr. Owen Harris  male  347082  B96 B98        S\n",
       "freq                          1   577       7        4      644"
      ]
     },
     "execution_count": 10,
     "metadata": {},
     "output_type": "execute_result"
    }
   ],
   "source": [
    "Titanic_dataset.describe(include=\"O\")"
   ]
  },
  {
   "cell_type": "code",
   "execution_count": 11,
   "id": "da36c2cc-19f3-4b2d-8afa-a45d693d2c7f",
   "metadata": {},
   "outputs": [
    {
     "name": "stdout",
     "output_type": "stream",
     "text": [
      "Total Rows is : 891\n",
      "Total columns is : 12\n"
     ]
    }
   ],
   "source": [
    "Total_Rows = Titanic_dataset.shape[0]\n",
    "Total_Cols = Titanic_dataset.shape[1]\n",
    "print(\"Total Rows is :\",Total_Rows)\n",
    "print(\"Total columns is :\", Total_Cols)\n"
   ]
  },
  {
   "cell_type": "markdown",
   "id": "11f03398-163d-44c3-a9eb-bfa6ba8323c0",
   "metadata": {},
   "source": [
    "# Handle Missing Values"
   ]
  },
  {
   "cell_type": "code",
   "execution_count": 12,
   "id": "f231e8bb-5fd9-407e-b590-c0c5376baa65",
   "metadata": {},
   "outputs": [
    {
     "data": {
      "text/plain": [
       "PassengerId      0\n",
       "Survived         0\n",
       "Pclass           0\n",
       "Name             0\n",
       "Sex              0\n",
       "Age            177\n",
       "SibSp            0\n",
       "Parch            0\n",
       "Ticket           0\n",
       "Fare             0\n",
       "Cabin          687\n",
       "Embarked         2\n",
       "dtype: int64"
      ]
     },
     "execution_count": 12,
     "metadata": {},
     "output_type": "execute_result"
    }
   ],
   "source": [
    "Titanic_dataset.isna().sum()"
   ]
  },
  {
   "cell_type": "code",
   "execution_count": 13,
   "id": "064a8dfd-320a-4283-8a34-d945b80be6da",
   "metadata": {},
   "outputs": [
    {
     "data": {
      "text/plain": [
       "PassengerId     0.000000\n",
       "Survived        0.000000\n",
       "Pclass          0.000000\n",
       "Name            0.000000\n",
       "Sex             0.000000\n",
       "Age            19.865320\n",
       "SibSp           0.000000\n",
       "Parch           0.000000\n",
       "Ticket          0.000000\n",
       "Fare            0.000000\n",
       "Cabin          77.104377\n",
       "Embarked        0.224467\n",
       "dtype: float64"
      ]
     },
     "execution_count": 13,
     "metadata": {},
     "output_type": "execute_result"
    }
   ],
   "source": [
    "Titanic_dataset.isna().sum() / Titanic_dataset.shape[0] * 100 "
   ]
  },
  {
   "cell_type": "code",
   "execution_count": 15,
   "id": "71d68e4e-b881-474c-8160-d66c7631882b",
   "metadata": {},
   "outputs": [],
   "source": [
    "import warnings\n",
    "warnings.simplefilter(\"ignore\")\n",
    "\n",
    "# Fill Age with mean (skewed distribution) - Numerical columns \n",
    "Titanic_dataset[\"Age\"].fillna(Titanic_dataset[\"Age\"].mean(), inplace=True)\n",
    "\n",
    "#  Fill Embarked with mode (most frequent value) - Categorical columns\n",
    "Titanic_dataset[\"Embarked\"].fillna(Titanic_dataset[\"Embarked\"].mode()[0], inplace=True)\n",
    "\n",
    "# 70 % plus null value thats why cabin is drop\n",
    "Titanic_dataset.drop(columns=[\"Cabin\"], inplace=True)\n"
   ]
  },
  {
   "cell_type": "code",
   "execution_count": 16,
   "id": "1100faca-05e6-4dce-870d-7926a475da05",
   "metadata": {},
   "outputs": [
    {
     "data": {
      "text/plain": [
       "PassengerId    0.0\n",
       "Survived       0.0\n",
       "Pclass         0.0\n",
       "Name           0.0\n",
       "Sex            0.0\n",
       "Age            0.0\n",
       "SibSp          0.0\n",
       "Parch          0.0\n",
       "Ticket         0.0\n",
       "Fare           0.0\n",
       "Embarked       0.0\n",
       "dtype: float64"
      ]
     },
     "execution_count": 16,
     "metadata": {},
     "output_type": "execute_result"
    }
   ],
   "source": [
    "Titanic_dataset.isna().sum() / Titanic_dataset.shape[0] * 100 "
   ]
  },
  {
   "cell_type": "code",
   "execution_count": 17,
   "id": "e8bb24a8-1c1e-405d-8848-a6d554543932",
   "metadata": {},
   "outputs": [
    {
     "data": {
      "text/html": [
       "<div>\n",
       "<style scoped>\n",
       "    .dataframe tbody tr th:only-of-type {\n",
       "        vertical-align: middle;\n",
       "    }\n",
       "\n",
       "    .dataframe tbody tr th {\n",
       "        vertical-align: top;\n",
       "    }\n",
       "\n",
       "    .dataframe thead th {\n",
       "        text-align: right;\n",
       "    }\n",
       "</style>\n",
       "<table border=\"1\" class=\"dataframe\">\n",
       "  <thead>\n",
       "    <tr style=\"text-align: right;\">\n",
       "      <th></th>\n",
       "      <th>PassengerId</th>\n",
       "      <th>Survived</th>\n",
       "      <th>Pclass</th>\n",
       "      <th>Name</th>\n",
       "      <th>Sex</th>\n",
       "      <th>Age</th>\n",
       "      <th>SibSp</th>\n",
       "      <th>Parch</th>\n",
       "      <th>Ticket</th>\n",
       "      <th>Fare</th>\n",
       "      <th>Embarked</th>\n",
       "    </tr>\n",
       "  </thead>\n",
       "  <tbody>\n",
       "    <tr>\n",
       "      <th>0</th>\n",
       "      <td>1</td>\n",
       "      <td>0</td>\n",
       "      <td>3</td>\n",
       "      <td>Braund, Mr. Owen Harris</td>\n",
       "      <td>male</td>\n",
       "      <td>22.0</td>\n",
       "      <td>1</td>\n",
       "      <td>0</td>\n",
       "      <td>A/5 21171</td>\n",
       "      <td>7.2500</td>\n",
       "      <td>S</td>\n",
       "    </tr>\n",
       "    <tr>\n",
       "      <th>1</th>\n",
       "      <td>2</td>\n",
       "      <td>1</td>\n",
       "      <td>1</td>\n",
       "      <td>Cumings, Mrs. John Bradley (Florence Briggs Th...</td>\n",
       "      <td>female</td>\n",
       "      <td>38.0</td>\n",
       "      <td>1</td>\n",
       "      <td>0</td>\n",
       "      <td>PC 17599</td>\n",
       "      <td>71.2833</td>\n",
       "      <td>C</td>\n",
       "    </tr>\n",
       "    <tr>\n",
       "      <th>2</th>\n",
       "      <td>3</td>\n",
       "      <td>1</td>\n",
       "      <td>3</td>\n",
       "      <td>Heikkinen, Miss. Laina</td>\n",
       "      <td>female</td>\n",
       "      <td>26.0</td>\n",
       "      <td>0</td>\n",
       "      <td>0</td>\n",
       "      <td>STON/O2. 3101282</td>\n",
       "      <td>7.9250</td>\n",
       "      <td>S</td>\n",
       "    </tr>\n",
       "    <tr>\n",
       "      <th>3</th>\n",
       "      <td>4</td>\n",
       "      <td>1</td>\n",
       "      <td>1</td>\n",
       "      <td>Futrelle, Mrs. Jacques Heath (Lily May Peel)</td>\n",
       "      <td>female</td>\n",
       "      <td>35.0</td>\n",
       "      <td>1</td>\n",
       "      <td>0</td>\n",
       "      <td>113803</td>\n",
       "      <td>53.1000</td>\n",
       "      <td>S</td>\n",
       "    </tr>\n",
       "    <tr>\n",
       "      <th>4</th>\n",
       "      <td>5</td>\n",
       "      <td>0</td>\n",
       "      <td>3</td>\n",
       "      <td>Allen, Mr. William Henry</td>\n",
       "      <td>male</td>\n",
       "      <td>35.0</td>\n",
       "      <td>0</td>\n",
       "      <td>0</td>\n",
       "      <td>373450</td>\n",
       "      <td>8.0500</td>\n",
       "      <td>S</td>\n",
       "    </tr>\n",
       "  </tbody>\n",
       "</table>\n",
       "</div>"
      ],
      "text/plain": [
       "   PassengerId  Survived  Pclass  \\\n",
       "0            1         0       3   \n",
       "1            2         1       1   \n",
       "2            3         1       3   \n",
       "3            4         1       1   \n",
       "4            5         0       3   \n",
       "\n",
       "                                                Name     Sex   Age  SibSp  \\\n",
       "0                            Braund, Mr. Owen Harris    male  22.0      1   \n",
       "1  Cumings, Mrs. John Bradley (Florence Briggs Th...  female  38.0      1   \n",
       "2                             Heikkinen, Miss. Laina  female  26.0      0   \n",
       "3       Futrelle, Mrs. Jacques Heath (Lily May Peel)  female  35.0      1   \n",
       "4                           Allen, Mr. William Henry    male  35.0      0   \n",
       "\n",
       "   Parch            Ticket     Fare Embarked  \n",
       "0      0         A/5 21171   7.2500        S  \n",
       "1      0          PC 17599  71.2833        C  \n",
       "2      0  STON/O2. 3101282   7.9250        S  \n",
       "3      0            113803  53.1000        S  \n",
       "4      0            373450   8.0500        S  "
      ]
     },
     "execution_count": 17,
     "metadata": {},
     "output_type": "execute_result"
    }
   ],
   "source": [
    "Titanic_dataset.head(5)"
   ]
  },
  {
   "cell_type": "markdown",
   "id": "eef9acac-3f13-49ad-940d-7d743d78120c",
   "metadata": {},
   "source": [
    "# Visualize Outliers & Remove "
   ]
  },
  {
   "cell_type": "code",
   "execution_count": 26,
   "id": "1ac838f7-83a3-4382-9263-53c62bdf46bc",
   "metadata": {},
   "outputs": [
    {
     "name": "stdout",
     "output_type": "stream",
     "text": [
      "befor using EQR method :\n",
      "\n"
     ]
    },
    {
     "ename": "IndexError",
     "evalue": "only integers, slices (`:`), ellipsis (`...`), numpy.newaxis (`None`) and integer or boolean arrays are valid indices",
     "output_type": "error",
     "traceback": [
      "\u001b[1;31m---------------------------------------------------------------------------\u001b[0m",
      "\u001b[1;31mIndexError\u001b[0m                                Traceback (most recent call last)",
      "Cell \u001b[1;32mIn[26], line 6\u001b[0m\n\u001b[0;32m      4\u001b[0m \u001b[38;5;28;01mfor\u001b[39;00m col \u001b[38;5;129;01min\u001b[39;00m numerical_col:\n\u001b[0;32m      5\u001b[0m     plt\u001b[38;5;241m.\u001b[39mfigure(figsize\u001b[38;5;241m=\u001b[39m(\u001b[38;5;241m6\u001b[39m,\u001b[38;5;241m2\u001b[39m))\n\u001b[1;32m----> 6\u001b[0m     sns\u001b[38;5;241m.\u001b[39mboxplot(x\u001b[38;5;241m=\u001b[39mTitanic_dataset[col])\n\u001b[0;32m      7\u001b[0m     plt\u001b[38;5;241m.\u001b[39mtitle(\u001b[38;5;124mf\u001b[39m\u001b[38;5;124m'\u001b[39m\u001b[38;5;124mBoxplot of \u001b[39m\u001b[38;5;132;01m{\u001b[39;00mcol\u001b[38;5;132;01m}\u001b[39;00m\u001b[38;5;124m'\u001b[39m)\n\u001b[0;32m      8\u001b[0m     plt\u001b[38;5;241m.\u001b[39mshow()\n",
      "\u001b[1;31mIndexError\u001b[0m: only integers, slices (`:`), ellipsis (`...`), numpy.newaxis (`None`) and integer or boolean arrays are valid indices"
     ]
    },
    {
     "data": {
      "text/plain": [
       "<Figure size 600x200 with 0 Axes>"
      ]
     },
     "metadata": {},
     "output_type": "display_data"
    }
   ],
   "source": [
    "import seaborn as sns\n",
    "import matplotlib.pyplot as plt\n",
    "print(\"befor using EQR method :\\n\")\n",
    "for col in numerical_col:\n",
    "    plt.figure(figsize=(6,2))\n",
    "    sns.boxplot(x=Titanic_dataset[col])\n",
    "    plt.title(f'Boxplot of {col}')\n",
    "    plt.show()\n"
   ]
  },
  {
   "cell_type": "code",
   "execution_count": 19,
   "id": "046923b3-5a60-4b48-84fd-a4a3fb71ff52",
   "metadata": {},
   "outputs": [],
   "source": [
    "def remove_outliers_iqr(Titanic_dataset, cols):\n",
    "    for col in cols:\n",
    "        Q1 = Titanic_dataset[col].quantile(0.25)\n",
    "        Q3 = Titanic_dataset[col].quantile(0.75)\n",
    "        IQR = Q3 - Q1\n",
    "        lower = Q1 - 1.5 * IQR\n",
    "        upper = Q3 + 1.5 * IQR\n",
    "        Titanic_dataset = Titanic_dataset[(Titanic_dataset[col] >= lower) & (Titanic_dataset[col] <= upper)]\n",
    "    return Titanic_dataset\n",
    "\n",
    "Titanic_dataset = remove_outliers_iqr(Titanic_dataset, numerical_col)\n"
   ]
  },
  {
   "cell_type": "code",
   "execution_count": 20,
   "id": "ff3e1486-a0d7-4a99-85a2-3fd37cb5edfe",
   "metadata": {},
   "outputs": [
    {
     "data": {
      "image/png": "[encoded data removed]",
      "text/plain": [
       "<Figure size 600x200 with 1 Axes>"
      ]
     },
     "metadata": {},
     "output_type": "display_data"
    },
    {
     "data": {
      "image/png": "[encoded data removed]",
      "text/plain": [
       "<Figure size 600x200 with 1 Axes>"
      ]
     },
     "metadata": {},
     "output_type": "display_data"
    },
    {
     "data": {
      "image/png": "[encoded data removed]",
      "text/plain": [
       "<Figure size 600x200 with 1 Axes>"
      ]
     },
     "metadata": {},
     "output_type": "display_data"
    },
    {
     "data": {
      "image/png": "[encoded data removed]",
      "text/plain": [
       "<Figure size 600x200 with 1 Axes>"
      ]
     },
     "metadata": {},
     "output_type": "display_data"
    },
    {
     "data": {
      "image/png": "[encoded data removed]",
      "text/plain": [
       "<Figure size 600x200 with 1 Axes>"
      ]
     },
     "metadata": {},
     "output_type": "display_data"
    },
    {
     "data": {
      "image/png": "[encoded data removed]",
      "text/plain": [
       "<Figure size 600x200 with 1 Axes>"
      ]
     },
     "metadata": {},
     "output_type": "display_data"
    },
    {
     "data": {
      "image/png": "[encoded data removed]",
      "text/plain": [
       "<Figure size 600x200 with 1 Axes>"
      ]
     },
     "metadata": {},
     "output_type": "display_data"
    }
   ],
   "source": [
    "\n",
    "for col in numerical_col:\n",
    "    plt.figure(figsize=(6,2))\n",
    "    sns.boxplot(x=Titanic_dataset[col])\n",
    "    plt.title(f'Boxplot of {col}')\n",
    "    plt.show()"
   ]
  },
  {
   "cell_type": "markdown",
   "id": "cdee4217-fef4-4a3f-8fe2-f1afe4c56ed4",
   "metadata": {},
   "source": [
    " # Convert categorical features into numerical using encoding"
   ]
  },
  {
   "cell_type": "code",
   "execution_count": 21,
   "id": "a6358f48-1626-4748-8751-b078f99d8abf",
   "metadata": {},
   "outputs": [],
   "source": [
    "from sklearn.preprocessing import LabelEncoder\n",
    "lb = LabelEncoder()\n",
    "\n",
    "# Encoding Sex and Embarked\n",
    "Titanic_dataset.Sex = lb.fit_transform(Titanic_dataset.Sex)\n",
    "\n",
    "Titanic_dataset.Embarked = lb.fit_transform(Titanic_dataset.Embarked)"
   ]
  },
  {
   "cell_type": "code",
   "execution_count": 22,
   "id": "71a26c26-566a-42b0-96d7-e2003788d67f",
   "metadata": {},
   "outputs": [
    {
     "name": "stdout",
     "output_type": "stream",
     "text": [
      "     PassengerId  Survived  Pclass  Sex        Age  SibSp  Parch     Fare  \\\n",
      "0              1         0       3    1  22.000000      1      0   7.2500   \n",
      "2              3         1       3    0  26.000000      0      0   7.9250   \n",
      "3              4         1       1    0  35.000000      1      0  53.1000   \n",
      "4              5         0       3    1  35.000000      0      0   8.0500   \n",
      "5              6         0       3    1  29.699118      0      0   8.4583   \n",
      "..           ...       ...     ...  ...        ...    ...    ...      ...   \n",
      "884          885         0       3    1  25.000000      0      0   7.0500   \n",
      "886          887         0       2    1  27.000000      0      0  13.0000   \n",
      "887          888         1       1    0  19.000000      0      0  30.0000   \n",
      "889          890         1       1    1  26.000000      0      0  30.0000   \n",
      "890          891         0       3    1  32.000000      0      0   7.7500   \n",
      "\n",
      "     Embarked  \n",
      "0           2  \n",
      "2           2  \n",
      "3           2  \n",
      "4           2  \n",
      "5           1  \n",
      "..        ...  \n",
      "884         2  \n",
      "886         2  \n",
      "887         2  \n",
      "889         0  \n",
      "890         1  \n",
      "\n",
      "[561 rows x 9 columns]\n"
     ]
    }
   ],
   "source": [
    "# Drop unnecessary columns like Name, Ticket\n",
    "\n",
    "Titanic_dataset.drop(columns=[\"Name\",\"Ticket\"],axis=1, inplace=True)\n",
    "print(Titanic_dataset)"
   ]
  },
  {
   "cell_type": "code",
   "execution_count": 23,
   "id": "88d1bec4-f941-440c-884c-9090bc87b2cb",
   "metadata": {},
   "outputs": [
    {
     "data": {
      "text/plain": [
       "Index(['PassengerId', 'Survived', 'Pclass', 'Sex', 'Age', 'SibSp', 'Parch',\n",
       "       'Fare', 'Embarked'],\n",
       "      dtype='object')"
      ]
     },
     "execution_count": 23,
     "metadata": {},
     "output_type": "execute_result"
    }
   ],
   "source": [
    "col_name = Titanic_dataset.columns\n",
    "col_name\n"
   ]
  },
  {
   "cell_type": "markdown",
   "id": "80ffd9fc-52b9-40d9-8e1d-b4a035e1032f",
   "metadata": {},
   "source": [
    "# Normalize/standardize the numerical features"
   ]
  },
  {
   "cell_type": "code",
   "execution_count": 24,
   "id": "222086b7-223e-451f-9720-f80f1d6f6511",
   "metadata": {},
   "outputs": [
    {
     "name": "stdout",
     "output_type": "stream",
     "text": [
      "After scaling : [[-1.72499128 -0.63442888  0.66921221 ...  0.         -0.61395677\n",
      "   0.54035134]\n",
      " [-1.7172895   1.57622081  0.66921221 ...  0.         -0.54998239\n",
      "   0.54035134]\n",
      " [-1.71343862  1.57622081 -2.12207439 ...  0.          3.73156283\n",
      "   0.54035134]\n",
      " ...\n",
      " [ 1.69074516  1.57622081 -2.12207439 ...  0.          1.54221707\n",
      "   0.54035134]\n",
      " [ 1.69844693  1.57622081 -2.12207439 ...  0.          1.54221707\n",
      "  -2.26647369]\n",
      " [ 1.70229782 -0.63442888  0.66921221 ...  0.         -0.56656834\n",
      "  -0.86306117]]\n"
     ]
    }
   ],
   "source": [
    "from sklearn.preprocessing import StandardScaler\n",
    "\n",
    "scaler = StandardScaler()\n",
    "\n",
    "Titanic_dataset = scaler.fit_transform(Titanic_dataset, Titanic_dataset)\n",
    "print(\"After scaling :\",Titanic_dataset)\n"
   ]
  },
  {
   "cell_type": "code",
   "execution_count": 25,
   "id": "0688575c-58f9-4f8f-aa41-6f67166c4c91",
   "metadata": {},
   "outputs": [
    {
     "data": {
      "text/html": [
       "<div>\n",
       "<style scoped>\n",
       "    .dataframe tbody tr th:only-of-type {\n",
       "        vertical-align: middle;\n",
       "    }\n",
       "\n",
       "    .dataframe tbody tr th {\n",
       "        vertical-align: top;\n",
       "    }\n",
       "\n",
       "    .dataframe thead th {\n",
       "        text-align: right;\n",
       "    }\n",
       "</style>\n",
       "<table border=\"1\" class=\"dataframe\">\n",
       "  <thead>\n",
       "    <tr style=\"text-align: right;\">\n",
       "      <th></th>\n",
       "      <th>PassengerId</th>\n",
       "      <th>Survived</th>\n",
       "      <th>Pclass</th>\n",
       "      <th>Sex</th>\n",
       "      <th>Age</th>\n",
       "      <th>SibSp</th>\n",
       "      <th>Parch</th>\n",
       "      <th>Fare</th>\n",
       "      <th>Embarked</th>\n",
       "    </tr>\n",
       "  </thead>\n",
       "  <tbody>\n",
       "    <tr>\n",
       "      <th>0</th>\n",
       "      <td>-1.724991</td>\n",
       "      <td>-0.634429</td>\n",
       "      <td>0.669212</td>\n",
       "      <td>0.573920</td>\n",
       "      <td>-0.903434</td>\n",
       "      <td>1.839399</td>\n",
       "      <td>0.0</td>\n",
       "      <td>-0.613957</td>\n",
       "      <td>0.540351</td>\n",
       "    </tr>\n",
       "    <tr>\n",
       "      <th>1</th>\n",
       "      <td>-1.717290</td>\n",
       "      <td>1.576221</td>\n",
       "      <td>0.669212</td>\n",
       "      <td>-1.742404</td>\n",
       "      <td>-0.428774</td>\n",
       "      <td>-0.433515</td>\n",
       "      <td>0.0</td>\n",
       "      <td>-0.549982</td>\n",
       "      <td>0.540351</td>\n",
       "    </tr>\n",
       "    <tr>\n",
       "      <th>2</th>\n",
       "      <td>-1.713439</td>\n",
       "      <td>1.576221</td>\n",
       "      <td>-2.122074</td>\n",
       "      <td>-1.742404</td>\n",
       "      <td>0.639211</td>\n",
       "      <td>1.839399</td>\n",
       "      <td>0.0</td>\n",
       "      <td>3.731563</td>\n",
       "      <td>0.540351</td>\n",
       "    </tr>\n",
       "    <tr>\n",
       "      <th>3</th>\n",
       "      <td>-1.709588</td>\n",
       "      <td>-0.634429</td>\n",
       "      <td>0.669212</td>\n",
       "      <td>0.573920</td>\n",
       "      <td>0.639211</td>\n",
       "      <td>-0.433515</td>\n",
       "      <td>0.0</td>\n",
       "      <td>-0.538135</td>\n",
       "      <td>0.540351</td>\n",
       "    </tr>\n",
       "    <tr>\n",
       "      <th>4</th>\n",
       "      <td>-1.705737</td>\n",
       "      <td>-0.634429</td>\n",
       "      <td>0.669212</td>\n",
       "      <td>0.573920</td>\n",
       "      <td>0.010181</td>\n",
       "      <td>-0.433515</td>\n",
       "      <td>0.0</td>\n",
       "      <td>-0.499438</td>\n",
       "      <td>-0.863061</td>\n",
       "    </tr>\n",
       "    <tr>\n",
       "      <th>...</th>\n",
       "      <td>...</td>\n",
       "      <td>...</td>\n",
       "      <td>...</td>\n",
       "      <td>...</td>\n",
       "      <td>...</td>\n",
       "      <td>...</td>\n",
       "      <td>...</td>\n",
       "      <td>...</td>\n",
       "      <td>...</td>\n",
       "    </tr>\n",
       "    <tr>\n",
       "      <th>556</th>\n",
       "      <td>1.679192</td>\n",
       "      <td>-0.634429</td>\n",
       "      <td>0.669212</td>\n",
       "      <td>0.573920</td>\n",
       "      <td>-0.547439</td>\n",
       "      <td>-0.433515</td>\n",
       "      <td>0.0</td>\n",
       "      <td>-0.632912</td>\n",
       "      <td>0.540351</td>\n",
       "    </tr>\n",
       "    <tr>\n",
       "      <th>557</th>\n",
       "      <td>1.686894</td>\n",
       "      <td>-0.634429</td>\n",
       "      <td>-0.726431</td>\n",
       "      <td>0.573920</td>\n",
       "      <td>-0.310109</td>\n",
       "      <td>-0.433515</td>\n",
       "      <td>0.0</td>\n",
       "      <td>-0.068990</td>\n",
       "      <td>0.540351</td>\n",
       "    </tr>\n",
       "    <tr>\n",
       "      <th>558</th>\n",
       "      <td>1.690745</td>\n",
       "      <td>1.576221</td>\n",
       "      <td>-2.122074</td>\n",
       "      <td>-1.742404</td>\n",
       "      <td>-1.259429</td>\n",
       "      <td>-0.433515</td>\n",
       "      <td>0.0</td>\n",
       "      <td>1.542217</td>\n",
       "      <td>0.540351</td>\n",
       "    </tr>\n",
       "    <tr>\n",
       "      <th>559</th>\n",
       "      <td>1.698447</td>\n",
       "      <td>1.576221</td>\n",
       "      <td>-2.122074</td>\n",
       "      <td>0.573920</td>\n",
       "      <td>-0.428774</td>\n",
       "      <td>-0.433515</td>\n",
       "      <td>0.0</td>\n",
       "      <td>1.542217</td>\n",
       "      <td>-2.266474</td>\n",
       "    </tr>\n",
       "    <tr>\n",
       "      <th>560</th>\n",
       "      <td>1.702298</td>\n",
       "      <td>-0.634429</td>\n",
       "      <td>0.669212</td>\n",
       "      <td>0.573920</td>\n",
       "      <td>0.283216</td>\n",
       "      <td>-0.433515</td>\n",
       "      <td>0.0</td>\n",
       "      <td>-0.566568</td>\n",
       "      <td>-0.863061</td>\n",
       "    </tr>\n",
       "  </tbody>\n",
       "</table>\n",
       "<p>561 rows × 9 columns</p>\n",
       "</div>"
      ],
      "text/plain": [
       "     PassengerId  Survived    Pclass       Sex       Age     SibSp  Parch  \\\n",
       "0      -1.724991 -0.634429  0.669212  0.573920 -0.903434  1.839399    0.0   \n",
       "1      -1.717290  1.576221  0.669212 -1.742404 -0.428774 -0.433515    0.0   \n",
       "2      -1.713439  1.576221 -2.122074 -1.742404  0.639211  1.839399    0.0   \n",
       "3      -1.709588 -0.634429  0.669212  0.573920  0.639211 -0.433515    0.0   \n",
       "4      -1.705737 -0.634429  0.669212  0.573920  0.010181 -0.433515    0.0   \n",
       "..           ...       ...       ...       ...       ...       ...    ...   \n",
       "556     1.679192 -0.634429  0.669212  0.573920 -0.547439 -0.433515    0.0   \n",
       "557     1.686894 -0.634429 -0.726431  0.573920 -0.310109 -0.433515    0.0   \n",
       "558     1.690745  1.576221 -2.122074 -1.742404 -1.259429 -0.433515    0.0   \n",
       "559     1.698447  1.576221 -2.122074  0.573920 -0.428774 -0.433515    0.0   \n",
       "560     1.702298 -0.634429  0.669212  0.573920  0.283216 -0.433515    0.0   \n",
       "\n",
       "         Fare  Embarked  \n",
       "0   -0.613957  0.540351  \n",
       "1   -0.549982  0.540351  \n",
       "2    3.731563  0.540351  \n",
       "3   -0.538135  0.540351  \n",
       "4   -0.499438 -0.863061  \n",
       "..        ...       ...  \n",
       "556 -0.632912  0.540351  \n",
       "557 -0.068990  0.540351  \n",
       "558  1.542217  0.540351  \n",
       "559  1.542217 -2.266474  \n",
       "560 -0.566568 -0.863061  \n",
       "\n",
       "[561 rows x 9 columns]"
      ]
     },
     "execution_count": 25,
     "metadata": {},
     "output_type": "execute_result"
    }
   ],
   "source": [
    "update_data = pd.DataFrame(Titanic_dataset, columns=col_name)\n",
    "update_data"
   ]
  },
  {
   "cell_type": "code",
   "execution_count": null,
   "id": "dfd6733c-6ec5-4692-86ed-cf88721f1d5d",
   "metadata": {},
   "outputs": [],
   "source": []
  },
  {
   "cell_type": "code",
   "execution_count": null,
   "id": "f522b4ca-cc16-45fe-8418-b2f744e60774",
   "metadata": {},
   "outputs": [],
   "source": []
  }
 ],
 "metadata": {
  "kernelspec": {
   "display_name": "Python 3 (ipykernel)",
   "language": "python",
   "name": "python3"
  },
  "language_info": {
   "codemirror_mode": {
    "name": "ipython",
    "version": 3
   },
   "file_extension": ".py",
   "mimetype": "text/x-python",
   "name": "python",
   "nbconvert_exporter": "python",
   "pygments_lexer": "ipython3",
   "version": "3.12.3"
  }
 },
 "nbformat": 4,
 "nbformat_minor": 5
}
